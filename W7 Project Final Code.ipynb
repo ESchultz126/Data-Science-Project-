{
 "cells": [
  {
   "cell_type": "markdown",
   "id": "3211967f",
   "metadata": {},
   "source": [
    "# Import the libraries needed for the project:"
   ]
  },
  {
   "cell_type": "code",
   "execution_count": 1,
   "id": "90f8ed26",
   "metadata": {},
   "outputs": [],
   "source": [
    "import pandas as pd\n",
    "from sklearn.model_selection import train_test_split\n",
    "from sklearn.preprocessing import StandardScaler\n",
    "from sklearn.linear_model import LinearRegression\n",
    "from sklearn.metrics import confusion_matrix, accuracy_score, classification_report\n",
    "from sklearn.linear_model import LogisticRegression\n",
    "from sklearn.model_selection import GridSearchCV\n",
    "from sklearn.linear_model import LogisticRegressionCV\n",
    "import matplotlib.pyplot as plt\n",
    "import numpy as np\n",
    "import pylab as pl"
   ]
  },
  {
   "cell_type": "markdown",
   "id": "8723d13e",
   "metadata": {},
   "source": [
    "# Question 1: \n",
    "## Read the file \"EU_Ref.csv” data into a pandas data frame and show the first few rows of data. What are the datatypes of each variable? Carry out some checks on the data.  Are there any missing values?  Show some descriptive values; means, min, max, etc. "
   ]
  },
  {
   "cell_type": "markdown",
   "id": "7f374e00",
   "metadata": {},
   "source": [
    "### Read the CSV file into a pandas dataframe."
   ]
  },
  {
   "cell_type": "code",
   "execution_count": 2,
   "id": "83f8d225",
   "metadata": {},
   "outputs": [],
   "source": [
    "#Load the file \"Eu_Ref.csva\"\n",
    "df = pd.read_csv(\"EU_Ref.csv\") "
   ]
  },
  {
   "cell_type": "markdown",
   "id": "3aac508d",
   "metadata": {},
   "source": [
    "### Show the first few rows of the data using the .head method:"
   ]
  },
  {
   "cell_type": "code",
   "execution_count": 3,
   "id": "571d434d",
   "metadata": {},
   "outputs": [
    {
     "data": {
      "text/html": [
       "<div>\n",
       "<style scoped>\n",
       "    .dataframe tbody tr th:only-of-type {\n",
       "        vertical-align: middle;\n",
       "    }\n",
       "\n",
       "    .dataframe tbody tr th {\n",
       "        vertical-align: top;\n",
       "    }\n",
       "\n",
       "    .dataframe thead th {\n",
       "        text-align: right;\n",
       "    }\n",
       "</style>\n",
       "<table border=\"1\" class=\"dataframe\">\n",
       "  <thead>\n",
       "    <tr style=\"text-align: right;\">\n",
       "      <th></th>\n",
       "      <th>pensionergrowth20012011</th>\n",
       "      <th>ResidentAge30to44share</th>\n",
       "      <th>ResidentAge45to59share</th>\n",
       "      <th>ResidentAge60plusshare</th>\n",
       "      <th>median_hourly_pay_growth</th>\n",
       "      <th>EU_2001Migrantshare</th>\n",
       "      <th>NONEU_2001Migrantshare</th>\n",
       "      <th>EU_Migrantgrowth</th>\n",
       "      <th>NONEU_Migrantgrowth</th>\n",
       "      <th>economic_activity_rate_aps2015</th>\n",
       "      <th>Total_EconomyEU_dependence</th>\n",
       "      <th>TREATED_WITHIN_62_DAYS</th>\n",
       "      <th>life_sat_cv</th>\n",
       "      <th>quall1_2001_sh</th>\n",
       "      <th>quall2_2001_sh</th>\n",
       "      <th>quall3_2001_sh</th>\n",
       "      <th>quall4plus_2001_sh</th>\n",
       "      <th>CouncilRented2001</th>\n",
       "      <th>PublicEmploymentGrowth</th>\n",
       "      <th>leaveeu</th>\n",
       "    </tr>\n",
       "  </thead>\n",
       "  <tbody>\n",
       "    <tr>\n",
       "      <th>0</th>\n",
       "      <td>0.125610</td>\n",
       "      <td>0.222354</td>\n",
       "      <td>0.186862</td>\n",
       "      <td>0.214906</td>\n",
       "      <td>0.341963</td>\n",
       "      <td>0.004085</td>\n",
       "      <td>0.011940</td>\n",
       "      <td>0.005722</td>\n",
       "      <td>0.005496</td>\n",
       "      <td>71.4</td>\n",
       "      <td>0.088</td>\n",
       "      <td>80.11</td>\n",
       "      <td>0.71</td>\n",
       "      <td>0.162989</td>\n",
       "      <td>0.186763</td>\n",
       "      <td>0.060077</td>\n",
       "      <td>0.114064</td>\n",
       "      <td>0.197646</td>\n",
       "      <td>-0.025287</td>\n",
       "      <td>1</td>\n",
       "    </tr>\n",
       "    <tr>\n",
       "      <th>1</th>\n",
       "      <td>0.067761</td>\n",
       "      <td>0.216425</td>\n",
       "      <td>0.175159</td>\n",
       "      <td>0.195996</td>\n",
       "      <td>0.377622</td>\n",
       "      <td>0.006726</td>\n",
       "      <td>0.032650</td>\n",
       "      <td>0.010700</td>\n",
       "      <td>0.030981</td>\n",
       "      <td>72.2</td>\n",
       "      <td>0.088</td>\n",
       "      <td>80.11</td>\n",
       "      <td>0.73</td>\n",
       "      <td>0.165037</td>\n",
       "      <td>0.192328</td>\n",
       "      <td>0.077535</td>\n",
       "      <td>0.128277</td>\n",
       "      <td>0.209774</td>\n",
       "      <td>-0.021338</td>\n",
       "      <td>1</td>\n",
       "    </tr>\n",
       "    <tr>\n",
       "      <th>2</th>\n",
       "      <td>0.143282</td>\n",
       "      <td>0.213330</td>\n",
       "      <td>0.201931</td>\n",
       "      <td>0.224830</td>\n",
       "      <td>0.159703</td>\n",
       "      <td>0.005362</td>\n",
       "      <td>0.012858</td>\n",
       "      <td>0.002638</td>\n",
       "      <td>-0.001488</td>\n",
       "      <td>73.9</td>\n",
       "      <td>0.088</td>\n",
       "      <td>78.24</td>\n",
       "      <td>0.70</td>\n",
       "      <td>0.173792</td>\n",
       "      <td>0.193903</td>\n",
       "      <td>0.062492</td>\n",
       "      <td>0.124684</td>\n",
       "      <td>0.195575</td>\n",
       "      <td>-0.066110</td>\n",
       "      <td>1</td>\n",
       "    </tr>\n",
       "    <tr>\n",
       "      <th>3</th>\n",
       "      <td>0.182932</td>\n",
       "      <td>0.231654</td>\n",
       "      <td>0.192161</td>\n",
       "      <td>0.197110</td>\n",
       "      <td>0.194340</td>\n",
       "      <td>0.005723</td>\n",
       "      <td>0.021843</td>\n",
       "      <td>0.005588</td>\n",
       "      <td>0.013794</td>\n",
       "      <td>78.9</td>\n",
       "      <td>0.088</td>\n",
       "      <td>80.11</td>\n",
       "      <td>0.67</td>\n",
       "      <td>0.179923</td>\n",
       "      <td>0.207027</td>\n",
       "      <td>0.068872</td>\n",
       "      <td>0.151730</td>\n",
       "      <td>0.171823</td>\n",
       "      <td>-0.042663</td>\n",
       "      <td>1</td>\n",
       "    </tr>\n",
       "    <tr>\n",
       "      <th>4</th>\n",
       "      <td>0.153059</td>\n",
       "      <td>0.223850</td>\n",
       "      <td>0.195425</td>\n",
       "      <td>0.222705</td>\n",
       "      <td>0.353591</td>\n",
       "      <td>0.009608</td>\n",
       "      <td>0.020575</td>\n",
       "      <td>0.015781</td>\n",
       "      <td>0.007962</td>\n",
       "      <td>77.8</td>\n",
       "      <td>0.088</td>\n",
       "      <td>64.71</td>\n",
       "      <td>0.63</td>\n",
       "      <td>0.170457</td>\n",
       "      <td>0.199309</td>\n",
       "      <td>0.067250</td>\n",
       "      <td>0.164564</td>\n",
       "      <td>0.142948</td>\n",
       "      <td>0.022609</td>\n",
       "      <td>1</td>\n",
       "    </tr>\n",
       "  </tbody>\n",
       "</table>\n",
       "</div>"
      ],
      "text/plain": [
       "   pensionergrowth20012011  ResidentAge30to44share  ResidentAge45to59share  \\\n",
       "0                 0.125610                0.222354                0.186862   \n",
       "1                 0.067761                0.216425                0.175159   \n",
       "2                 0.143282                0.213330                0.201931   \n",
       "3                 0.182932                0.231654                0.192161   \n",
       "4                 0.153059                0.223850                0.195425   \n",
       "\n",
       "   ResidentAge60plusshare  median_hourly_pay_growth  EU_2001Migrantshare  \\\n",
       "0                0.214906                  0.341963             0.004085   \n",
       "1                0.195996                  0.377622             0.006726   \n",
       "2                0.224830                  0.159703             0.005362   \n",
       "3                0.197110                  0.194340             0.005723   \n",
       "4                0.222705                  0.353591             0.009608   \n",
       "\n",
       "   NONEU_2001Migrantshare  EU_Migrantgrowth  NONEU_Migrantgrowth  \\\n",
       "0                0.011940          0.005722             0.005496   \n",
       "1                0.032650          0.010700             0.030981   \n",
       "2                0.012858          0.002638            -0.001488   \n",
       "3                0.021843          0.005588             0.013794   \n",
       "4                0.020575          0.015781             0.007962   \n",
       "\n",
       "   economic_activity_rate_aps2015  Total_EconomyEU_dependence  \\\n",
       "0                            71.4                       0.088   \n",
       "1                            72.2                       0.088   \n",
       "2                            73.9                       0.088   \n",
       "3                            78.9                       0.088   \n",
       "4                            77.8                       0.088   \n",
       "\n",
       "   TREATED_WITHIN_62_DAYS  life_sat_cv  quall1_2001_sh  quall2_2001_sh  \\\n",
       "0                   80.11         0.71        0.162989        0.186763   \n",
       "1                   80.11         0.73        0.165037        0.192328   \n",
       "2                   78.24         0.70        0.173792        0.193903   \n",
       "3                   80.11         0.67        0.179923        0.207027   \n",
       "4                   64.71         0.63        0.170457        0.199309   \n",
       "\n",
       "   quall3_2001_sh  quall4plus_2001_sh  CouncilRented2001  \\\n",
       "0        0.060077            0.114064           0.197646   \n",
       "1        0.077535            0.128277           0.209774   \n",
       "2        0.062492            0.124684           0.195575   \n",
       "3        0.068872            0.151730           0.171823   \n",
       "4        0.067250            0.164564           0.142948   \n",
       "\n",
       "   PublicEmploymentGrowth  leaveeu  \n",
       "0               -0.025287        1  \n",
       "1               -0.021338        1  \n",
       "2               -0.066110        1  \n",
       "3               -0.042663        1  \n",
       "4                0.022609        1  "
      ]
     },
     "execution_count": 3,
     "metadata": {},
     "output_type": "execute_result"
    }
   ],
   "source": [
    "#.head() method displays the first n rows of the data. default set as 5.\n",
    "df.head()"
   ]
  },
  {
   "cell_type": "markdown",
   "id": "27d6564d",
   "metadata": {},
   "source": [
    "### Datatypes of each variable:"
   ]
  },
  {
   "cell_type": "code",
   "execution_count": 4,
   "id": "76d4332a",
   "metadata": {},
   "outputs": [
    {
     "name": "stdout",
     "output_type": "stream",
     "text": [
      "pensionergrowth20012011           float64\n",
      "ResidentAge30to44share            float64\n",
      "ResidentAge45to59share            float64\n",
      "ResidentAge60plusshare            float64\n",
      "median_hourly_pay_growth          float64\n",
      "EU_2001Migrantshare               float64\n",
      "NONEU_2001Migrantshare            float64\n",
      "EU_Migrantgrowth                  float64\n",
      "NONEU_Migrantgrowth               float64\n",
      "economic_activity_rate_aps2015    float64\n",
      "Total_EconomyEU_dependence        float64\n",
      "TREATED_WITHIN_62_DAYS            float64\n",
      "life_sat_cv                       float64\n",
      "quall1_2001_sh                    float64\n",
      "quall2_2001_sh                    float64\n",
      "quall3_2001_sh                    float64\n",
      "quall4plus_2001_sh                float64\n",
      "CouncilRented2001                 float64\n",
      "PublicEmploymentGrowth            float64\n",
      "leaveeu                             int64\n",
      "dtype: object\n"
     ]
    }
   ],
   "source": [
    "#print the datatypes using the .dtypes method\n",
    "print(df.dtypes)"
   ]
  },
  {
   "cell_type": "markdown",
   "id": "6cf05f0c",
   "metadata": {},
   "source": [
    "The LeaveEU variable is the only variable that is an integer and the rest are floats. This makes sense because LeaveEU is binary outcome that only has 2 outcomes: leave(1) or remain(0) so no decimal points are needed in the dataframe for this variable. All other variables are floats showing they store decimals. This makes sense because they largely continuous variables meaning they need decimals places hence will be stored as floats in the dataframe."
   ]
  },
  {
   "cell_type": "markdown",
   "id": "8bfca5bc",
   "metadata": {},
   "source": [
    "### Show some descriptive values of the data:"
   ]
  },
  {
   "cell_type": "code",
   "execution_count": 5,
   "id": "b06d1397",
   "metadata": {},
   "outputs": [
    {
     "data": {
      "text/html": [
       "<div>\n",
       "<style scoped>\n",
       "    .dataframe tbody tr th:only-of-type {\n",
       "        vertical-align: middle;\n",
       "    }\n",
       "\n",
       "    .dataframe tbody tr th {\n",
       "        vertical-align: top;\n",
       "    }\n",
       "\n",
       "    .dataframe thead th {\n",
       "        text-align: right;\n",
       "    }\n",
       "</style>\n",
       "<table border=\"1\" class=\"dataframe\">\n",
       "  <thead>\n",
       "    <tr style=\"text-align: right;\">\n",
       "      <th></th>\n",
       "      <th>pensionergrowth20012011</th>\n",
       "      <th>ResidentAge30to44share</th>\n",
       "      <th>ResidentAge45to59share</th>\n",
       "      <th>ResidentAge60plusshare</th>\n",
       "      <th>median_hourly_pay_growth</th>\n",
       "      <th>EU_2001Migrantshare</th>\n",
       "      <th>NONEU_2001Migrantshare</th>\n",
       "      <th>EU_Migrantgrowth</th>\n",
       "      <th>NONEU_Migrantgrowth</th>\n",
       "      <th>economic_activity_rate_aps2015</th>\n",
       "      <th>Total_EconomyEU_dependence</th>\n",
       "      <th>TREATED_WITHIN_62_DAYS</th>\n",
       "      <th>life_sat_cv</th>\n",
       "      <th>quall1_2001_sh</th>\n",
       "      <th>quall2_2001_sh</th>\n",
       "      <th>quall3_2001_sh</th>\n",
       "      <th>quall4plus_2001_sh</th>\n",
       "      <th>CouncilRented2001</th>\n",
       "      <th>PublicEmploymentGrowth</th>\n",
       "      <th>leaveeu</th>\n",
       "    </tr>\n",
       "  </thead>\n",
       "  <tbody>\n",
       "    <tr>\n",
       "      <th>count</th>\n",
       "      <td>377.000000</td>\n",
       "      <td>377.000000</td>\n",
       "      <td>377.000000</td>\n",
       "      <td>377.000000</td>\n",
       "      <td>377.000000</td>\n",
       "      <td>377.000000</td>\n",
       "      <td>377.000000</td>\n",
       "      <td>377.000000</td>\n",
       "      <td>377.000000</td>\n",
       "      <td>377.000000</td>\n",
       "      <td>377.000000</td>\n",
       "      <td>377.000000</td>\n",
       "      <td>377.000000</td>\n",
       "      <td>377.000000</td>\n",
       "      <td>377.000000</td>\n",
       "      <td>377.000000</td>\n",
       "      <td>377.000000</td>\n",
       "      <td>377.000000</td>\n",
       "      <td>377.000000</td>\n",
       "      <td>377.000000</td>\n",
       "    </tr>\n",
       "    <tr>\n",
       "      <th>mean</th>\n",
       "      <td>0.181742</td>\n",
       "      <td>0.223833</td>\n",
       "      <td>0.195141</td>\n",
       "      <td>0.215259</td>\n",
       "      <td>0.236455</td>\n",
       "      <td>0.013070</td>\n",
       "      <td>0.051743</td>\n",
       "      <td>0.021930</td>\n",
       "      <td>0.023036</td>\n",
       "      <td>78.750133</td>\n",
       "      <td>0.096997</td>\n",
       "      <td>82.712918</td>\n",
       "      <td>1.174244</td>\n",
       "      <td>0.177062</td>\n",
       "      <td>0.195722</td>\n",
       "      <td>0.078948</td>\n",
       "      <td>0.193253</td>\n",
       "      <td>0.123627</td>\n",
       "      <td>-0.030293</td>\n",
       "      <td>0.694960</td>\n",
       "    </tr>\n",
       "    <tr>\n",
       "      <th>std</th>\n",
       "      <td>0.101397</td>\n",
       "      <td>0.019002</td>\n",
       "      <td>0.020083</td>\n",
       "      <td>0.036817</td>\n",
       "      <td>0.087039</td>\n",
       "      <td>0.010605</td>\n",
       "      <td>0.062797</td>\n",
       "      <td>0.021905</td>\n",
       "      <td>0.029422</td>\n",
       "      <td>4.489320</td>\n",
       "      <td>0.031558</td>\n",
       "      <td>7.740290</td>\n",
       "      <td>0.459731</td>\n",
       "      <td>0.034385</td>\n",
       "      <td>0.025595</td>\n",
       "      <td>0.020297</td>\n",
       "      <td>0.070054</td>\n",
       "      <td>0.079888</td>\n",
       "      <td>0.025603</td>\n",
       "      <td>0.461036</td>\n",
       "    </tr>\n",
       "    <tr>\n",
       "      <th>min</th>\n",
       "      <td>-0.137270</td>\n",
       "      <td>0.169351</td>\n",
       "      <td>0.112638</td>\n",
       "      <td>0.122608</td>\n",
       "      <td>-0.091790</td>\n",
       "      <td>0.003287</td>\n",
       "      <td>0.006623</td>\n",
       "      <td>0.000701</td>\n",
       "      <td>-0.021239</td>\n",
       "      <td>65.600000</td>\n",
       "      <td>0.033000</td>\n",
       "      <td>33.300000</td>\n",
       "      <td>0.570000</td>\n",
       "      <td>0.061569</td>\n",
       "      <td>0.118437</td>\n",
       "      <td>0.041499</td>\n",
       "      <td>0.084577</td>\n",
       "      <td>0.004096</td>\n",
       "      <td>-0.166667</td>\n",
       "      <td>0.000000</td>\n",
       "    </tr>\n",
       "    <tr>\n",
       "      <th>25%</th>\n",
       "      <td>0.115162</td>\n",
       "      <td>0.213457</td>\n",
       "      <td>0.185986</td>\n",
       "      <td>0.194045</td>\n",
       "      <td>0.177477</td>\n",
       "      <td>0.007101</td>\n",
       "      <td>0.018864</td>\n",
       "      <td>0.008882</td>\n",
       "      <td>0.005508</td>\n",
       "      <td>75.800000</td>\n",
       "      <td>0.081000</td>\n",
       "      <td>78.650000</td>\n",
       "      <td>0.750000</td>\n",
       "      <td>0.161471</td>\n",
       "      <td>0.182131</td>\n",
       "      <td>0.065154</td>\n",
       "      <td>0.146574</td>\n",
       "      <td>0.070255</td>\n",
       "      <td>-0.043831</td>\n",
       "      <td>0.000000</td>\n",
       "    </tr>\n",
       "    <tr>\n",
       "      <th>50%</th>\n",
       "      <td>0.185650</td>\n",
       "      <td>0.222597</td>\n",
       "      <td>0.198696</td>\n",
       "      <td>0.212123</td>\n",
       "      <td>0.235431</td>\n",
       "      <td>0.010130</td>\n",
       "      <td>0.030538</td>\n",
       "      <td>0.014614</td>\n",
       "      <td>0.011328</td>\n",
       "      <td>79.000000</td>\n",
       "      <td>0.095000</td>\n",
       "      <td>82.670000</td>\n",
       "      <td>1.130000</td>\n",
       "      <td>0.175110</td>\n",
       "      <td>0.201464</td>\n",
       "      <td>0.074371</td>\n",
       "      <td>0.177198</td>\n",
       "      <td>0.109264</td>\n",
       "      <td>-0.028928</td>\n",
       "      <td>1.000000</td>\n",
       "    </tr>\n",
       "    <tr>\n",
       "      <th>75%</th>\n",
       "      <td>0.255083</td>\n",
       "      <td>0.233836</td>\n",
       "      <td>0.209006</td>\n",
       "      <td>0.232836</td>\n",
       "      <td>0.289899</td>\n",
       "      <td>0.015532</td>\n",
       "      <td>0.051653</td>\n",
       "      <td>0.025241</td>\n",
       "      <td>0.029897</td>\n",
       "      <td>81.900000</td>\n",
       "      <td>0.130000</td>\n",
       "      <td>87.220000</td>\n",
       "      <td>1.480000</td>\n",
       "      <td>0.188906</td>\n",
       "      <td>0.213945</td>\n",
       "      <td>0.087977</td>\n",
       "      <td>0.225243</td>\n",
       "      <td>0.169505</td>\n",
       "      <td>-0.015627</td>\n",
       "      <td>1.000000</td>\n",
       "    </tr>\n",
       "    <tr>\n",
       "      <th>max</th>\n",
       "      <td>0.439829</td>\n",
       "      <td>0.291694</td>\n",
       "      <td>0.232213</td>\n",
       "      <td>0.360392</td>\n",
       "      <td>0.661098</td>\n",
       "      <td>0.112258</td>\n",
       "      <td>0.381620</td>\n",
       "      <td>0.137645</td>\n",
       "      <td>0.179379</td>\n",
       "      <td>92.600000</td>\n",
       "      <td>0.147000</td>\n",
       "      <td>100.000000</td>\n",
       "      <td>3.050000</td>\n",
       "      <td>0.297112</td>\n",
       "      <td>0.247958</td>\n",
       "      <td>0.190120</td>\n",
       "      <td>0.515300</td>\n",
       "      <td>0.423369</td>\n",
       "      <td>0.035897</td>\n",
       "      <td>1.000000</td>\n",
       "    </tr>\n",
       "  </tbody>\n",
       "</table>\n",
       "</div>"
      ],
      "text/plain": [
       "       pensionergrowth20012011  ResidentAge30to44share  \\\n",
       "count               377.000000              377.000000   \n",
       "mean                  0.181742                0.223833   \n",
       "std                   0.101397                0.019002   \n",
       "min                  -0.137270                0.169351   \n",
       "25%                   0.115162                0.213457   \n",
       "50%                   0.185650                0.222597   \n",
       "75%                   0.255083                0.233836   \n",
       "max                   0.439829                0.291694   \n",
       "\n",
       "       ResidentAge45to59share  ResidentAge60plusshare  \\\n",
       "count              377.000000              377.000000   \n",
       "mean                 0.195141                0.215259   \n",
       "std                  0.020083                0.036817   \n",
       "min                  0.112638                0.122608   \n",
       "25%                  0.185986                0.194045   \n",
       "50%                  0.198696                0.212123   \n",
       "75%                  0.209006                0.232836   \n",
       "max                  0.232213                0.360392   \n",
       "\n",
       "       median_hourly_pay_growth  EU_2001Migrantshare  NONEU_2001Migrantshare  \\\n",
       "count                377.000000           377.000000              377.000000   \n",
       "mean                   0.236455             0.013070                0.051743   \n",
       "std                    0.087039             0.010605                0.062797   \n",
       "min                   -0.091790             0.003287                0.006623   \n",
       "25%                    0.177477             0.007101                0.018864   \n",
       "50%                    0.235431             0.010130                0.030538   \n",
       "75%                    0.289899             0.015532                0.051653   \n",
       "max                    0.661098             0.112258                0.381620   \n",
       "\n",
       "       EU_Migrantgrowth  NONEU_Migrantgrowth  economic_activity_rate_aps2015  \\\n",
       "count        377.000000           377.000000                      377.000000   \n",
       "mean           0.021930             0.023036                       78.750133   \n",
       "std            0.021905             0.029422                        4.489320   \n",
       "min            0.000701            -0.021239                       65.600000   \n",
       "25%            0.008882             0.005508                       75.800000   \n",
       "50%            0.014614             0.011328                       79.000000   \n",
       "75%            0.025241             0.029897                       81.900000   \n",
       "max            0.137645             0.179379                       92.600000   \n",
       "\n",
       "       Total_EconomyEU_dependence  TREATED_WITHIN_62_DAYS  life_sat_cv  \\\n",
       "count                  377.000000              377.000000   377.000000   \n",
       "mean                     0.096997               82.712918     1.174244   \n",
       "std                      0.031558                7.740290     0.459731   \n",
       "min                      0.033000               33.300000     0.570000   \n",
       "25%                      0.081000               78.650000     0.750000   \n",
       "50%                      0.095000               82.670000     1.130000   \n",
       "75%                      0.130000               87.220000     1.480000   \n",
       "max                      0.147000              100.000000     3.050000   \n",
       "\n",
       "       quall1_2001_sh  quall2_2001_sh  quall3_2001_sh  quall4plus_2001_sh  \\\n",
       "count      377.000000      377.000000      377.000000          377.000000   \n",
       "mean         0.177062        0.195722        0.078948            0.193253   \n",
       "std          0.034385        0.025595        0.020297            0.070054   \n",
       "min          0.061569        0.118437        0.041499            0.084577   \n",
       "25%          0.161471        0.182131        0.065154            0.146574   \n",
       "50%          0.175110        0.201464        0.074371            0.177198   \n",
       "75%          0.188906        0.213945        0.087977            0.225243   \n",
       "max          0.297112        0.247958        0.190120            0.515300   \n",
       "\n",
       "       CouncilRented2001  PublicEmploymentGrowth     leaveeu  \n",
       "count         377.000000              377.000000  377.000000  \n",
       "mean            0.123627               -0.030293    0.694960  \n",
       "std             0.079888                0.025603    0.461036  \n",
       "min             0.004096               -0.166667    0.000000  \n",
       "25%             0.070255               -0.043831    0.000000  \n",
       "50%             0.109264               -0.028928    1.000000  \n",
       "75%             0.169505               -0.015627    1.000000  \n",
       "max             0.423369                0.035897    1.000000  "
      ]
     },
     "execution_count": 5,
     "metadata": {},
     "output_type": "execute_result"
    }
   ],
   "source": [
    "#use the .describe() method to show descriptive values of the data\n",
    "df.describe()"
   ]
  },
  {
   "cell_type": "markdown",
   "id": "0bcce738",
   "metadata": {},
   "source": [
    "The descriptive values of the data here are interesting when looking at the LeaveEU variable. The mean is shown as 69% leave voters which is interesting because the overall UK average was 52% and is already telling us that this data is from a high leave area since it is above the UK average. "
   ]
  },
  {
   "cell_type": "markdown",
   "id": "9eb743e8",
   "metadata": {},
   "source": [
    "### Checks on the data: is there any missing data?"
   ]
  },
  {
   "cell_type": "code",
   "execution_count": 6,
   "id": "704d08dc",
   "metadata": {},
   "outputs": [
    {
     "data": {
      "text/plain": [
       "pensionergrowth20012011           0\n",
       "ResidentAge30to44share            0\n",
       "ResidentAge45to59share            0\n",
       "ResidentAge60plusshare            0\n",
       "median_hourly_pay_growth          0\n",
       "EU_2001Migrantshare               0\n",
       "NONEU_2001Migrantshare            0\n",
       "EU_Migrantgrowth                  0\n",
       "NONEU_Migrantgrowth               0\n",
       "economic_activity_rate_aps2015    0\n",
       "Total_EconomyEU_dependence        0\n",
       "TREATED_WITHIN_62_DAYS            0\n",
       "life_sat_cv                       0\n",
       "quall1_2001_sh                    0\n",
       "quall2_2001_sh                    0\n",
       "quall3_2001_sh                    0\n",
       "quall4plus_2001_sh                0\n",
       "CouncilRented2001                 0\n",
       "PublicEmploymentGrowth            0\n",
       "leaveeu                           0\n",
       "dtype: int64"
      ]
     },
     "execution_count": 6,
     "metadata": {},
     "output_type": "execute_result"
    }
   ],
   "source": [
    "#the is.null method checks whether there are any gaps in the data. \n",
    "df.isnull().sum()"
   ]
  },
  {
   "cell_type": "markdown",
   "id": "4bb34957",
   "metadata": {},
   "source": [
    "The .null() method allows us to check for gaps in the data. Combining this with the sum() method allows us to check how many, if any, that individual variable has. The results here show that there is no missing data which is good because if there were, the data is less accurate and we might come to the wrong conclusions later on."
   ]
  },
  {
   "cell_type": "markdown",
   "id": "84244cd7",
   "metadata": {},
   "source": [
    "### Check on the data: is there duplicate records?"
   ]
  },
  {
   "cell_type": "code",
   "execution_count": 7,
   "id": "a79fb94f",
   "metadata": {},
   "outputs": [
    {
     "data": {
      "text/plain": [
       "0"
      ]
     },
     "execution_count": 7,
     "metadata": {},
     "output_type": "execute_result"
    }
   ],
   "source": [
    "#duplicated() method checks for duplicated record\n",
    "df.duplicated().sum()"
   ]
  },
  {
   "cell_type": "markdown",
   "id": "11928ee2",
   "metadata": {},
   "source": [
    "This check on the data shows that there are no duplicated records in this data frame which is good because otherwise it could create skews in the data by making one record more powerful than another. "
   ]
  },
  {
   "cell_type": "markdown",
   "id": "eae270e3",
   "metadata": {},
   "source": [
    "# Question 2: \n",
    "## Define the y vector to contain the variable “leaveeu”.  Define an X matrix to contain all other variables.  Use the sklearn StandardScaler to normalise the x values.  Split the data into training and test data using a suitable test/train split such as 20%."
   ]
  },
  {
   "cell_type": "markdown",
   "id": "f3de575b",
   "metadata": {},
   "source": [
    "### Set up the X and Y matrices:"
   ]
  },
  {
   "cell_type": "code",
   "execution_count": 8,
   "id": "3a8260ff",
   "metadata": {},
   "outputs": [],
   "source": [
    "#Set the y vector\n",
    "Y = df['leaveeu']\n",
    "\n",
    "#Set the X matrix\n",
    "X = df.drop('leaveeu', axis=1)"
   ]
  },
  {
   "cell_type": "markdown",
   "id": "2491ec4a",
   "metadata": {},
   "source": [
    "### Split into test and training set:"
   ]
  },
  {
   "cell_type": "code",
   "execution_count": 9,
   "id": "81786d67",
   "metadata": {},
   "outputs": [],
   "source": [
    "#test/train split:\n",
    "X_train, X_test, Y_train, Y_test = train_test_split(X, Y, test_size=0.2, random_state=42)"
   ]
  },
  {
   "cell_type": "markdown",
   "id": "c0def74e",
   "metadata": {},
   "source": [
    "### Standardise:"
   ]
  },
  {
   "cell_type": "code",
   "execution_count": 10,
   "id": "c683be7e",
   "metadata": {},
   "outputs": [],
   "source": [
    "#standardise the x matrix: scale for both the test and training data:\n",
    "scaler = StandardScaler()\n",
    "X_train_scaled = scaler.fit_transform(X_train)\n",
    "X_test_scaled = scaler.transform(X_test)"
   ]
  },
  {
   "cell_type": "markdown",
   "id": "556f5abd",
   "metadata": {},
   "source": [
    "Firstly, the x matrix is created containing all variables apart from the leaveEU variable since that is the what should be on the y axis. The leaveEU variable is added to the y vector. Then the data is split into a test/training set. The training data is the sample that is used to build the model and the testing data is the sample outside of the sample used for testing the model. This test/train split is done using the libary from sklearn. Finally in this queston, the data is standardised. Standardisation is done in order to keep records consistent and ready to be regressed in the upcoming questions."
   ]
  },
  {
   "cell_type": "markdown",
   "id": "bd574313",
   "metadata": {},
   "source": [
    "# Question 3: \n",
    "\n",
    "## Estimate a linear probability model (OLS) as follows: \n",
    " \n",
    "## 𝑙𝑒𝑎𝑣𝑒𝑒𝑢𝑖 = 𝛽0 +𝛽1𝑋𝑖′𝑠+𝜀𝑖 \n",
    " \n",
    "## where the X’s are all variables in the data.  Using the tests data obtain the fitted values from this model. Comment on the range of estimated probabilities.  Define a new variable that is the predicted class (based on a threshold probability of 0.5). "
   ]
  },
  {
   "cell_type": "code",
   "execution_count": 11,
   "id": "cac2a32b",
   "metadata": {},
   "outputs": [],
   "source": [
    "#fit into a linear model:\n",
    "linear_model = LinearRegression()\n",
    "linear_model.fit(X_train_scaled,Y_train)\n",
    "coef = pd.Series(linear_model.coef_, index = X.columns)"
   ]
  },
  {
   "cell_type": "code",
   "execution_count": 12,
   "id": "8bcb2fab",
   "metadata": {},
   "outputs": [
    {
     "name": "stdout",
     "output_type": "stream",
     "text": [
      "pensionergrowth20012011           0.096546\n",
      "ResidentAge30to44share            0.057501\n",
      "ResidentAge45to59share           -0.087878\n",
      "ResidentAge60plusshare            0.062488\n",
      "median_hourly_pay_growth         -0.018740\n",
      "EU_2001Migrantshare               0.137117\n",
      "NONEU_2001Migrantshare           -0.072764\n",
      "EU_Migrantgrowth                 -0.024014\n",
      "NONEU_Migrantgrowth               0.050680\n",
      "economic_activity_rate_aps2015    0.000173\n",
      "Total_EconomyEU_dependence        0.097245\n",
      "TREATED_WITHIN_62_DAYS            0.013699\n",
      "life_sat_cv                       0.043793\n",
      "quall1_2001_sh                   -0.181227\n",
      "quall2_2001_sh                    0.052123\n",
      "quall3_2001_sh                   -0.091374\n",
      "quall4plus_2001_sh               -0.377183\n",
      "CouncilRented2001                -0.003095\n",
      "PublicEmploymentGrowth           -0.017495\n",
      "dtype: float64\n"
     ]
    }
   ],
   "source": [
    "#print the coefficient results\n",
    "print(coef)"
   ]
  },
  {
   "cell_type": "code",
   "execution_count": 13,
   "id": "2d7a41cf",
   "metadata": {},
   "outputs": [
    {
     "data": {
      "text/plain": [
       "Text(0.5, 1.0, 'Variable importance using OLS Model')"
      ]
     },
     "execution_count": 13,
     "metadata": {},
     "output_type": "execute_result"
    },
    {
     "data": {
      "image/png": "[encoded data removed]",
      "text/plain": [
       "<Figure size 1152x576 with 1 Axes>"
      ]
     },
     "metadata": {
      "needs_background": "light"
     },
     "output_type": "display_data"
    }
   ],
   "source": [
    "#coefficents significance shown in a chart\n",
    "imp_coef = coef.sort_values()\n",
    "plt.rcParams['figure.figsize'] = (16.0, 8.0)\n",
    "imp_coef.plot.bar()\n",
    "plt.title(\"Variable importance using OLS Model\")"
   ]
  },
  {
   "cell_type": "code",
   "execution_count": 14,
   "id": "cab7f60c",
   "metadata": {},
   "outputs": [],
   "source": [
    "#Fitted values of the testing data:\n",
    "Y_prediction = linear_model.predict(X_test_scaled)"
   ]
  },
  {
   "cell_type": "code",
   "execution_count": 15,
   "id": "ebdb770e",
   "metadata": {},
   "outputs": [
    {
     "name": "stdout",
     "output_type": "stream",
     "text": [
      "The minimum proability is: -0.21 and the maximum probability is: 1.25\n"
     ]
    }
   ],
   "source": [
    "#print the range of possible probabilities:\n",
    "print(f\"The minimum proability is: {min(Y_prediction):.2f} and the maximum probability is: {max(Y_prediction):.2f}\")"
   ]
  },
  {
   "cell_type": "code",
   "execution_count": 16,
   "id": "f6580ba1",
   "metadata": {},
   "outputs": [
    {
     "data": {
      "text/plain": [
       "count    76.000000\n",
       "mean      0.736842\n",
       "std       0.443273\n",
       "min       0.000000\n",
       "25%       0.000000\n",
       "50%       1.000000\n",
       "75%       1.000000\n",
       "max       1.000000\n",
       "dtype: float64"
      ]
     },
     "execution_count": 16,
     "metadata": {},
     "output_type": "execute_result"
    }
   ],
   "source": [
    "#Predicted class based on a threshold of 0.5:\n",
    "def binary(x):\n",
    "    if x>=0.5:\n",
    "        y=1\n",
    "    else:\n",
    "        y=0\n",
    "    return y\n",
    "vbinary=np.vectorize(binary)\n",
    "Y_pred_class=vbinary(Y_prediction)\n",
    "pd.Series(Y_pred_class).describe()"
   ]
  },
  {
   "cell_type": "markdown",
   "id": "a5789056",
   "metadata": {},
   "source": [
    "This section of the assignment has created a linear model for the data. Shown how significant each variable's coefficient is in a diagram. Fitted the test data and shown the possible probabilities and created a predicted class based on a threshold of 0.5. From the diagram, the quall4plus variable has the most significant -ve coefficent, and the EU_2001_migrantsshare has the most +ve coefficient. This shows that the higher the EU migrants share, the more likely they would vote for Brexit. And the qualifications 4 plus shows that having 4 qualifications means you were less likely to vote for Brexit. The predicted class here uses a threshold of 0.5. This means to be added to this class, the model has to predict that your probability of voting for Brexit needs to be at least 0.5. There are 76 values in this and the mean is 0.73 meaning 73% were Brexit voters, higher than the 69% for the data as a whole. From the minimum and maximum probabilities there is a problem since they lie outside of 0-1, this problem will be discussed in more detail when it comes to the logistic model."
   ]
  },
  {
   "cell_type": "markdown",
   "id": "05ca1ffd",
   "metadata": {},
   "source": [
    "# Question 4:\n",
    "### Obtain the confusion matrix, accuracy score and classification report in the tests data.  Briefly discuss these difference performance metrics, explaining each concept.  What do the precision and recall score indicate?  "
   ]
  },
  {
   "cell_type": "markdown",
   "id": "84eb23ec",
   "metadata": {},
   "source": [
    "### Create the Confusion Matrix and discuss:"
   ]
  },
  {
   "cell_type": "code",
   "execution_count": 17,
   "id": "87711f41",
   "metadata": {},
   "outputs": [
    {
     "data": {
      "image/png": "[encoded data removed]",
      "text/plain": [
       "<Figure size 1152x576 with 2 Axes>"
      ]
     },
     "metadata": {
      "needs_background": "light"
     },
     "output_type": "display_data"
    }
   ],
   "source": [
    "# obtain the confusion matrix for the predicted classes\n",
    "cm = confusion_matrix(Y_test, Y_pred_class)\n",
    "\n",
    "#seaborn is a visualisation library based on matplotlib\n",
    "import seaborn as sns\n",
    "\n",
    "#create the confusion matrix diagram using matplotlib subplot method()\n",
    "cm_diagram= plt.subplot()\n",
    "\n",
    "#create a heatmap showing a 'heat' when there is a lot of data in one area\n",
    "#annot = true allows for annotation and ftm = g disables scientific notation\n",
    "sns.heatmap(cm, annot=True, fmt='g', ax=cm_diagram); \n",
    "\n",
    "# labels, title and ticks\n",
    "cm_diagram.set_xlabel('Predicted labels')\n",
    "cm_diagram.set_ylabel('True labels'); \n",
    "cm_diagram.set_title('Confusion Matrix'); \n",
    "cm_diagram.xaxis.set_ticklabels(['0:Remain', '1:Brexit']);cm_diagram.yaxis.set_ticklabels(['0:Remain', '1:Brexit']);\n"
   ]
  },
  {
   "cell_type": "markdown",
   "id": "8627722b",
   "metadata": {},
   "source": [
    "A confusion matrix shows the predicted values on one axis against the true values on the other axis. This allows us to see the errors in our model i.e. the false positives and the false negatives. A false positive in this incidence occurs when the model predicts the individual is a Brexit voter but is in fact a Remain voter. A false negative occurs when the model predicts the individual to be a Remainer but is in fact a Brexiter. This confusion matrix has a total of 76 data points. It has successfully 67 of these. The remaining 9 are split into 8 false positive since our model predicted them as Brexit when they were remain and 1 false negative since our model predicted the individual as a Brexit voter when they were a remain voter."
   ]
  },
  {
   "cell_type": "markdown",
   "id": "48a92c98",
   "metadata": {},
   "source": [
    "### Accuracy Score:"
   ]
  },
  {
   "cell_type": "code",
   "execution_count": 18,
   "id": "5a825dfd",
   "metadata": {},
   "outputs": [
    {
     "name": "stdout",
     "output_type": "stream",
     "text": [
      "The Accuracy Score is: 0.881578947368421\n"
     ]
    }
   ],
   "source": [
    "#calculate the accuracy score for the predicted classes using the accuracy_score method.\n",
    "ac_score = accuracy_score(Y_test, Y_pred_class)\n",
    "\n",
    "#print the accuracy score:\n",
    "print(f\"The Accuracy Score is: {ac_score}\")"
   ]
  },
  {
   "cell_type": "markdown",
   "id": "861db227",
   "metadata": {},
   "source": [
    "The Accuracy Score here shows how many points of data are model predicted accuractely. Since from the confusion matrix there were 9 errors out the 76 data points, it successfully predicted 67 points. Therefore, 67/76 = 0.88157... "
   ]
  },
  {
   "cell_type": "markdown",
   "id": "8bcb90b6",
   "metadata": {},
   "source": [
    "### Classification Report:"
   ]
  },
  {
   "cell_type": "code",
   "execution_count": 19,
   "id": "4c313e47",
   "metadata": {},
   "outputs": [
    {
     "name": "stdout",
     "output_type": "stream",
     "text": [
      "The Classification report is:\n",
      "               precision    recall  f1-score   support\n",
      "\n",
      "           0       0.95      0.70      0.81        27\n",
      "           1       0.86      0.98      0.91        49\n",
      "\n",
      "    accuracy                           0.88        76\n",
      "   macro avg       0.90      0.84      0.86        76\n",
      "weighted avg       0.89      0.88      0.88        76\n",
      "\n"
     ]
    }
   ],
   "source": [
    "# obtain the classification report for the predicted classes using the classification report method.\n",
    "cl_report = classification_report(Y_test, Y_pred_class)\n",
    "print(f\"The Classification report is:\\n {cl_report}\")"
   ]
  },
  {
   "cell_type": "code",
   "execution_count": 37,
   "id": "ea925890",
   "metadata": {},
   "outputs": [
    {
     "data": {
      "image/png": "[encoded data removed]",
      "text/plain": [
       "<Figure size 720x720 with 1 Axes>"
      ]
     },
     "metadata": {
      "needs_background": "light"
     },
     "output_type": "display_data"
    }
   ],
   "source": [
    "from sklearn.metrics import precision_recall_fscore_support\n",
    "#function for creating a classification report diagram\n",
    "def plot_classification_report(Y_test, Y_pred_class, figsize=(10, 10), ax=None):\n",
    "    my_colors=['#02ab2e','orange','red', 'darkred']\n",
    "    #create the figure\n",
    "    plt.figure(figsize=figsize)\n",
    "\n",
    "    #label the axis uses 'ticks'\n",
    "    xticks = ['precision', 'recall', 'f1-score', 'support']\n",
    "    yticks = list(np.unique(Y_test))\n",
    "    #ticks += ['avg']\n",
    "\n",
    "    rep = np.array(precision_recall_fscore_support(Y_test, Y_pred_class)).T\n",
    "    avg = np.mean(rep, axis=0)\n",
    "    avg[-1] = np.sum(rep[:, -1])\n",
    "    rep = np.insert(rep, rep.shape[0], avg, axis=0)\n",
    "\n",
    "    #add the info to the digram\n",
    "    sns.heatmap(rep,\n",
    "                annot=True, \n",
    "                cbar=False,\n",
    "                cmap = my_colors,\n",
    "                xticklabels=xticks, \n",
    "                yticklabels=yticks,\n",
    "                ax=ax)\n",
    "    \n",
    "#call the plot_classification_report function using the data from the earlier tests   \n",
    "plot_classification_report(Y_test, Y_pred_class)"
   ]
  },
  {
   "cell_type": "code",
   "execution_count": null,
   "id": "e0d00de9",
   "metadata": {},
   "outputs": [],
   "source": []
  },
  {
   "cell_type": "markdown",
   "id": "3a9994e0",
   "metadata": {},
   "source": [
    "The classification report helps us to understand how well our model has performed. It shows the precision score and recall score. These will be analysed in more detail in the next section. It also shows the f1-score and the support score. The f1-score is the weighted average of the precison and recall score, and the support score shows the number of actual occurences of the class in the dataset."
   ]
  },
  {
   "cell_type": "markdown",
   "id": "19e82326",
   "metadata": {},
   "source": [
    "### What do the precision and recall scores indicate?"
   ]
  },
  {
   "cell_type": "markdown",
   "id": "dc44a849",
   "metadata": {},
   "source": [
    "Recall is the fraction of actual cases correctly identified. Taking the positive case scenario, it is the fraction of positive cases idenified over the total positive cases. It can also be called the true positive rate/sensitivity. So to calculate it in this case, there were 48 positive cases identified and 49 total. This gives a precision of 0.98 which can be seen for the recall positive cases in the diagram above.\n",
    "\n",
    "Precision is the fraction of predicted positive cases correctly identified. Taking the positive example again, there were 48 positive cases identified and 56 cases in total. 48/56 gives a precision score of 0.86 in this case and can be seen for the positive case for the precision score in the diagram above.\n",
    "\n",
    "These scores are both useful tools for data science since it allows us to get a gage for how accurate are model is. However, the better method to use depends on the circumstances. For example, running a test for a health condition would need a high recall score since a false positive can be followed up with another test to confirm the diagnosis and helps to protect hospital staff and other patients. However, if an algorithm is creating a spotify playlist for a user it will want a high level of precision since any false positives will annoy the user and they will create their own playlist.\n",
    "\n"
   ]
  },
  {
   "cell_type": "markdown",
   "id": "a00b91c8",
   "metadata": {},
   "source": [
    "# Question 5:\n",
    "### Explain why we use the test data to evaluate the model performance rather than the training data.  What will happen to the accuracy score in the training data as we make our model more complex?  What about the accuracy score in the test data?"
   ]
  },
  {
   "cell_type": "markdown",
   "id": "77c737b8",
   "metadata": {},
   "source": [
    "The training data is the sample that is used to build the model and the testing data is the sample outside of the sample used for testing the model. (add here why we use the testing data)\n",
    "\n",
    "As we make the model more complex, the accuracy score in the training data will go down.The training mean squared error (MSE) will go down since we are fitting closer to the training data. However, this does not necessarily mean that the test data MSE will also go down. The training MSE will definietly go down because we will be working hard to finding patterns in the training MSE with a complex model. However, if the small training MSE causes a higher test MSE then we are working hard to find patterns in our training data and picking up on some patterns that are caused by error noise and do not occur in the testing data. As we increase the complexity we fit more towards our training data.\n",
    "\n",
    "Additonally, increasing complexity causes a decrease in bias and an increase in variance which is called the bias/variance trade off. Eventually, adding more complexity is not worthwile since the decrease in bias will not outweigh any benefit from a increase in variance. Since the overall MSE comes down to both the variance and the bias, in the testing data, there will be a certain point where adding complexity will cause too much increase in variance that the overall MSE begins to go up. However, this does not happen with the training MSE since adding complexity just adds a closer fit to the training data but this does not necessarily mean that adding complexity is the answer because there can be error noise in the training data. We want to create a model which finds a middle ground in this bias/variance trade off.\n",
    "\n"
   ]
  },
  {
   "attachments": {
    "image.png": {
     "image/png": "[encoded data removed]"
    }
   },
   "cell_type": "markdown",
   "id": "23e4445a",
   "metadata": {},
   "source": [
    "\n",
    "<div>\n",
    "<img src=\"attachment:image.png\" width=\"700\">\n",
    "</div>"
   ]
  },
  {
   "cell_type": "markdown",
   "id": "dedc178a",
   "metadata": {},
   "source": [
    "# Question 6:\n",
    "### Briefly explain why a logit model might be a more appropriate model to use here instead of the linear probability model. "
   ]
  },
  {
   "cell_type": "markdown",
   "id": "ba8e839f",
   "metadata": {},
   "source": [
    "Since our model has a binary outcome (leave 1 or remain 0), regression by OLS is not completely unreasonable since the B̂X found using OLS is an estimate of P(leave|X). However, the problem with OLS here and why a logistic model will be more benefical is because in OLS some values are outside of 0 and 1. This can be seen in an earlier section where the minimum probability was -0.21 and the maximum probability was 1.25 and therefore is outside of the 0-1 range. The problem with this is that it becomes hard to interpret because how can someone who voted for Brexit be worth anymore than 1 in this model? \n",
    "\n",
    "OLS can be used for quite crude estimates when there are two responses like in the Brexit/Remain case. However, in another case where there were more than 2 outcomes, OLS will be more severly disadvantaged when compared with a logistic since OLS cannot accomodate a qualitative response with more than 2 cases. For example, if you were rating a hotel between 0 and 10, the value of going from 9 to 10 will not be worth the same as going from 1-2. \n",
    "\n",
    "To avoid the problem of values being outside of this 0-1 range, the logit model is more appropriate since an S-shape curve is created using the maximum likelihood method. This means that regardless of the X-values we will still reach a sensibile prediction for the model. Additonally, the logit will also be better because we are no longer assuming a linear relationship between variables because of this S-shape curve which is generally a better fit for binary responses. \n",
    "\n",
    "Furthermore, the logit gives us results which are easy to understand and are called log-odd ratios. These are very closely related to probability and are therefore easy to interpret. On the other hand, a linear models estimates are very crude as mentioned earlier and may give an insight to whats going on, but they generally cannot be directly interpreted as probabilities."
   ]
  },
  {
   "cell_type": "markdown",
   "id": "a59064d2",
   "metadata": {},
   "source": [
    "# Question 7:\n",
    "### Estimate the model in Q3 but now using a logit model.  Obtain the fitted values and the confusion matrix, accuracy score and classification report.  Comment on the difference with the linear probability model above."
   ]
  },
  {
   "cell_type": "markdown",
   "id": "e49b0c36",
   "metadata": {},
   "source": [
    "### Estimate the logit model:"
   ]
  },
  {
   "cell_type": "code",
   "execution_count": 21,
   "id": "e8eb8e9d",
   "metadata": {},
   "outputs": [
    {
     "data": {
      "text/plain": [
       "LogisticRegression(max_iter=250, penalty='none')"
      ]
     },
     "execution_count": 21,
     "metadata": {},
     "output_type": "execute_result"
    }
   ],
   "source": [
    "# Normalize the feature variables\n",
    "scaler = StandardScaler()\n",
    "X_norm = scaler.fit_transform(X)\n",
    "\n",
    "#normally split the train/test data:\n",
    "X_train, X_test, Y_train, Y_test = train_test_split(X_norm, Y, test_size=0.2, random_state=42)\n",
    "\n",
    "#esimate the logit model\n",
    "logit = LogisticRegression(penalty=\"none\",max_iter=250)\n",
    "logit.fit(X_train, Y_train)\n"
   ]
  },
  {
   "cell_type": "code",
   "execution_count": 22,
   "id": "397cff71",
   "metadata": {},
   "outputs": [],
   "source": [
    "# Obtain the fitted values on the test set\n",
    "Y_pred_logit = logit.predict(X_test)"
   ]
  },
  {
   "cell_type": "markdown",
   "id": "3c9b49fb",
   "metadata": {},
   "source": [
    "### Logit Confusion Matrix:"
   ]
  },
  {
   "cell_type": "code",
   "execution_count": 23,
   "id": "6ab2c860",
   "metadata": {},
   "outputs": [
    {
     "data": {
      "image/png": "[encoded data removed]",
      "text/plain": [
       "<Figure size 1152x576 with 2 Axes>"
      ]
     },
     "metadata": {
      "needs_background": "light"
     },
     "output_type": "display_data"
    }
   ],
   "source": [
    "# Create the confusion matrix\n",
    "logit_cm = confusion_matrix(Y_test, Y_pred_logit)\n",
    "\n",
    "#create the confusion matrix diagram using matplotlib subplot method()\n",
    "logit_cm_diagram= plt.subplot()\n",
    "\n",
    "#create a heatmap showing a 'heat' when there is a lot of data in one area\n",
    "#annot = true allows for annotation and ftm = g disables scientific notation\n",
    "sns.heatmap(logit_cm, annot=True, fmt='g', ax=logit_cm_diagram); \n",
    "\n",
    "# labels, title and ticks\n",
    "logit_cm_diagram.set_xlabel('Predicted labels')\n",
    "logit_cm_diagram.set_ylabel('True labels'); \n",
    "logit_cm_diagram.set_title('Confusion Matrix'); \n",
    "logit_cm_diagram.xaxis.set_ticklabels(['0:Remain', '1:Brexit']);logit_cm_diagram.yaxis.set_ticklabels(['0:Remain', '1:Brexit']);\n"
   ]
  },
  {
   "cell_type": "markdown",
   "id": "10a6cd63",
   "metadata": {},
   "source": [
    "### Logit Accuracy Scores:"
   ]
  },
  {
   "cell_type": "code",
   "execution_count": 24,
   "id": "b7011d5f",
   "metadata": {},
   "outputs": [
    {
     "name": "stdout",
     "output_type": "stream",
     "text": [
      "Accuracy Score: 0.8947368421052632\n"
     ]
    }
   ],
   "source": [
    "#calculate the logit accuracy scores:\n",
    "logit_ac_score = accuracy_score(Y_test, Y_pred_logit)\n",
    "print('Accuracy Score:', logit_ac_score)"
   ]
  },
  {
   "cell_type": "markdown",
   "id": "f7964647",
   "metadata": {},
   "source": [
    "### Logit Classification Report:"
   ]
  },
  {
   "cell_type": "code",
   "execution_count": 25,
   "id": "59649f4d",
   "metadata": {},
   "outputs": [
    {
     "name": "stdout",
     "output_type": "stream",
     "text": [
      "Classification Report:\n",
      "               precision    recall  f1-score   support\n",
      "\n",
      "           0       0.91      0.78      0.84        27\n",
      "           1       0.89      0.96      0.92        49\n",
      "\n",
      "    accuracy                           0.89        76\n",
      "   macro avg       0.90      0.87      0.88        76\n",
      "weighted avg       0.90      0.89      0.89        76\n",
      "\n"
     ]
    }
   ],
   "source": [
    "#create the logit classification report:\n",
    "class_report = classification_report(Y_test, Y_pred_logit)\n",
    "\n",
    "#print classification report\n",
    "print('Classification Report:\\n', class_report)"
   ]
  },
  {
   "cell_type": "code",
   "execution_count": 26,
   "id": "5f0ce6a7",
   "metadata": {},
   "outputs": [
    {
     "data": {
      "image/png": "[encoded data removed]",
      "text/plain": [
       "<Figure size 720x720 with 1 Axes>"
      ]
     },
     "metadata": {
      "needs_background": "light"
     },
     "output_type": "display_data"
    }
   ],
   "source": [
    "#call the plot_classification_report function using the data from the logit test   \n",
    "plot_classification_report(Y_test, Y_pred_logit)"
   ]
  },
  {
   "cell_type": "markdown",
   "id": "c90820c2",
   "metadata": {},
   "source": [
    "### Comments on the difference between the Linear probability model and the Logit Model:\n"
   ]
  },
  {
   "cell_type": "markdown",
   "id": "2e3b3134",
   "metadata": {},
   "source": [
    "These results show that the logit model is a better predictor than the linear probability model as we would have expected from the theory in question 6. This can be seen by the f1-score which combines the averages of the precision and recall score to give 0 a score of 0.84 and 1 a score of 0.92. This is higher than the f1-score n the linear probability model where 0 had a score of 0.81 and 1 had a score of 0.91. The overall accuracy score is also higher in the logit model at 0.8947 in the logit and 0.881 in the linear probability model.\n",
    "\n",
    "Also information from the confusion matrix shows there are less errors seen in the logit model with 6 false positives and 2 false negatives so 8 in total. Compared with 8 false positives in the linear probability model and 1 false negative giving 1 less error in the logit model.\n",
    "\n",
    "Additonally, the logit model here has kept the values between 0 and 1 which the linear probability model did not. \n",
    "\n",
    "Overall, the logit model helps to overcome many of the drawbacks of a linear probability model, and the results for the accuracy tests here show that it is much more accurate as well. "
   ]
  },
  {
   "cell_type": "markdown",
   "id": "69ea5b1d",
   "metadata": {},
   "source": [
    "# Question 8:\n",
    "### Estimate the logit model but applying a penalty term such as Lasso or Ridge.   "
   ]
  },
  {
   "cell_type": "markdown",
   "id": "a2f39ded",
   "metadata": {},
   "source": [
    "### Lasso Regression:"
   ]
  },
  {
   "cell_type": "code",
   "execution_count": 27,
   "id": "15d06ffe",
   "metadata": {},
   "outputs": [
    {
     "data": {
      "text/plain": [
       "array([[ 0.        ,  0.        ,  0.        ,  0.        ,  0.        ,\n",
       "         0.        ,  0.        ,  0.        ,  0.        ,  0.        ,\n",
       "         0.59765658,  0.        ,  0.22760295, -0.0982893 ,  0.69718434,\n",
       "        -0.01593394, -1.92705218,  0.        ,  0.        ]])"
      ]
     },
     "execution_count": 27,
     "metadata": {},
     "output_type": "execute_result"
    }
   ],
   "source": [
    "#create the lasso regression, c shows the penalty size and l1 tells python it is a lasso.\n",
    "lasso=LogisticRegression(C=0.1, penalty='l1',solver=\"liblinear\")\n",
    "\n",
    "#fit the model\n",
    "lasso.fit(X_train, Y_train)\n",
    "\n",
    "#print the coefficients\n",
    "lasso.coef_"
   ]
  },
  {
   "cell_type": "code",
   "execution_count": 28,
   "id": "dc13349d",
   "metadata": {},
   "outputs": [],
   "source": [
    "#find the predicted values\n",
    "Y_pred_lasso=lasso.predict(X_test)"
   ]
  },
  {
   "cell_type": "code",
   "execution_count": 29,
   "id": "09d42418",
   "metadata": {},
   "outputs": [
    {
     "name": "stdout",
     "output_type": "stream",
     "text": [
      "[[19  8]\n",
      " [ 3 46]]\n"
     ]
    }
   ],
   "source": [
    "#lasso confusion matrix:\n",
    "lasso_cm = confusion_matrix(Y_test, Y_pred_lasso)\n",
    "print (lasso_cm)"
   ]
  },
  {
   "cell_type": "code",
   "execution_count": 30,
   "id": "35d81860",
   "metadata": {},
   "outputs": [
    {
     "name": "stdout",
     "output_type": "stream",
     "text": [
      "The lasso accuracy score is: 0.8552631578947368\n"
     ]
    }
   ],
   "source": [
    "#lasso accuracy score:\n",
    "lasso_as = accuracy_score(Y_test, Y_pred_lasso)\n",
    "print(f\"The lasso accuracy score is: {lasso_as}\")"
   ]
  },
  {
   "cell_type": "markdown",
   "id": "88f99fb0",
   "metadata": {},
   "source": [
    "### Ridge Regression:"
   ]
  },
  {
   "cell_type": "code",
   "execution_count": 31,
   "id": "b536853b",
   "metadata": {},
   "outputs": [
    {
     "data": {
      "text/plain": [
       "array([[ 0.12377449, -0.17333681, -0.25145256, -0.02157441, -0.16212591,\n",
       "        -0.24376654, -0.23745114, -0.01002511,  0.18726718, -0.1035608 ,\n",
       "         0.67242706, -0.08545685,  0.43380267, -0.28825235,  0.60043667,\n",
       "        -0.5013748 , -1.31795028, -0.06235967,  0.01678589]])"
      ]
     },
     "execution_count": 31,
     "metadata": {},
     "output_type": "execute_result"
    }
   ],
   "source": [
    "#create the ridge regression, c shows the penalty size and l2 tells python it is a ridge.\n",
    "ridge=LogisticRegression(C=0.1, penalty='l2',solver=\"liblinear\")\n",
    "\n",
    "#fit the model\n",
    "ridge.fit(X_train, Y_train)\n",
    "\n",
    "#show the coefficients for ridge\n",
    "ridge.coef_"
   ]
  },
  {
   "cell_type": "code",
   "execution_count": 32,
   "id": "514fd6bd",
   "metadata": {},
   "outputs": [],
   "source": [
    "#find ridge predicted values\n",
    "Y_pred_ridge=ridge.predict(X_test)"
   ]
  },
  {
   "cell_type": "code",
   "execution_count": 33,
   "id": "8b650479",
   "metadata": {},
   "outputs": [
    {
     "name": "stdout",
     "output_type": "stream",
     "text": [
      "[[20  7]\n",
      " [ 2 47]]\n"
     ]
    }
   ],
   "source": [
    "#ridge confusion matrix:\n",
    "ridge_cm = confusion_matrix(Y_test, Y_pred_ridge)\n",
    "print (ridge_cm)"
   ]
  },
  {
   "cell_type": "code",
   "execution_count": 34,
   "id": "7d2b0a7d",
   "metadata": {},
   "outputs": [
    {
     "name": "stdout",
     "output_type": "stream",
     "text": [
      "The ridge accuracy score is: 0.881578947368421\n"
     ]
    }
   ],
   "source": [
    "#ridge accuracy score:\n",
    "ridge_as = accuracy_score(Y_test, Y_pred_ridge)\n",
    "print(f\"The ridge accuracy score is: {ridge_as}\")"
   ]
  },
  {
   "cell_type": "markdown",
   "id": "f1c9d3a6",
   "metadata": {},
   "source": [
    "### Additonal Comments:\n",
    "A penalised regression model tries to find the 𝛽′𝑠 that minimise the error sum of squares and also the penalty function. The difference between Lasso and Ridge is that in the Lasso model, the penalty function is the sum of the absolute 𝛽′𝑠 and in Ridge, the penalty function is the sum of the squared 𝛽′𝑠. For this reason, in Lasso some of the 𝛽′𝑠 are forced all the way to zero (depending on the size of the penalty), whereas in Ridge they shrink very close to zero but never actually go to zero. This theory can be seen by the code in this section of the assignment, since in the Lasso example several 𝛽′𝑠 go all the way to zero but this is not the case in Ridge where they just become very small.\n",
    "\n",
    "The accuracy score of the lasso is the lowest accuracy score found so far when compared with ridge, OLS and the non-penalised logit. The accuracy score for ridge is 0.882 (3dp) which puts it higher than ridge and OLS but still slightly behind the logit. It is expected to be lower than the logit because the logit does not have any penalty function and therefore despite the slightly higher accuracy score in logit, it still has the problem of overfitting the data. Compared with the Lasso and Ridge which give up a bit of error when it comes to bias for a significant amount less variance than the overfitted logit.\n",
    "\n",
    "It is interesting here that the accuracy score of Ridge is better than the score for Lasso. This may tell us that Ridge is better for this model as Ridge tends to do better if most of the X's do matter and have similar sized coefficients. We already know that this is the case for this dataset from the chart created in question 3. While there were two coefficients at either end that were much bigger than the rest, most coefficients were fairly small and similar and for this reason completely omitting the variables like in a Lasso will not be good in this case. This could explain why the Ridge achieved a better accuracy score than Lasso for this dataset.\n",
    "\n"
   ]
  },
  {
   "cell_type": "markdown",
   "id": "c81299c8",
   "metadata": {},
   "source": [
    "# Question 9: \n",
    "### Explain the role of the penalty parameter λ in this model.  Explain how one can use cross validation to find the optimal parameter. "
   ]
  },
  {
   "cell_type": "markdown",
   "id": "8e825073",
   "metadata": {},
   "source": [
    "The Penalty parameter is used to stop an overfit and reduce the variance. Want to find the optimal though and that comes down to the bias/variance trade off discussed earlier. Want a penalty that stops overfitting to reduce the variance but don't want that penalty to reduce variance too much because then there will be too much bias again from an underfitted model. But the theory is that if the optimal penalty parameter is found then you can get a big reduction in variance at only a small cost to bias. The penalty parameter works in a penalty function which acts as a cost to added complexity and reduces overfitting. Two methods for doing this were discussed in the previous question called Ridge and Lasso. Both have different methods for creating the penalty function (discussed previously) but both have the same intuition behind the penalty parameter: impose a cost on complexity to reduce overfitting. \n",
    "\n",
    "Cross Validation is a method for finding this optimal penalty parameter. The data is split into different 'folds' (essentially subsets and the number of subsets can be decided by the individual) then the model is trained on one fold and validated against a different fold. This is repeated for all folds and the average of all folds helps to evaluate the models performance. This Cross Validation method helps to find the best penalty parameter because the penalty parameter can be tuned on several different repeats through to reach an optimal penalty parameter that gives the highest accuracy (or lowest error)."
   ]
  },
  {
   "cell_type": "markdown",
   "id": "266f2108",
   "metadata": {},
   "source": [
    "# Question 10:\n",
    "### Use cross validation (such as LogisticRegressionCV or GridSearchCV) to find the optimal penalty parameter for the model in Q8.  Comment on your results."
   ]
  },
  {
   "cell_type": "code",
   "execution_count": 35,
   "id": "506fefa4",
   "metadata": {},
   "outputs": [
    {
     "name": "stdout",
     "output_type": "stream",
     "text": [
      "Optimal penalty parameter: [166.81005372]\n"
     ]
    }
   ],
   "source": [
    "# Standardize the features\n",
    "scaler = StandardScaler()\n",
    "X_scaled = scaler.fit_transform(X)\n",
    "\n",
    "# Split the data into training and test sets\n",
    "X_train, X_test, Y_train, Y_test = train_test_split(X_scaled, Y, test_size=0.2, random_state=42)\n",
    "\n",
    "# Fit the model on the training data\n",
    "opt_pen = LogisticRegressionCV(Cs=10, cv=5, penalty='l2', solver='lbfgs', max_iter=1000)\n",
    "opt_pen.fit(X_train, Y_train)\n",
    "\n",
    "# Get the optimal value of the penalty parameter\n",
    "print(f\"Optimal penalty parameter: {opt_pen.C_}\")\n"
   ]
  },
  {
   "cell_type": "markdown",
   "id": "97451d71",
   "metadata": {},
   "source": [
    "### Additonal Comments:\n",
    "The model has determined that the ideal penalty paramter is 166.8. This shows that a high degree of penalisation is needed to prevent an outfitted model.\n",
    "\n"
   ]
  },
  {
   "cell_type": "code",
   "execution_count": null,
   "id": "7d881d66",
   "metadata": {},
   "outputs": [],
   "source": []
  }
 ],
 "metadata": {
  "kernelspec": {
   "display_name": "Python 3 (ipykernel)",
   "language": "python",
   "name": "python3"
  },
  "language_info": {
   "codemirror_mode": {
    "name": "ipython",
    "version": 3
   },
   "file_extension": ".py",
   "mimetype": "text/x-python",
   "name": "python",
   "nbconvert_exporter": "python",
   "pygments_lexer": "ipython3",
   "version": "3.9.7"
  }
 },
 "nbformat": 4,
 "nbformat_minor": 5
}
